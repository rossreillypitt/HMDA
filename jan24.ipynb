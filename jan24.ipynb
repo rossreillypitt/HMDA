{
 "cells": [
  {
   "cell_type": "code",
   "execution_count": 1,
   "metadata": {
    "collapsed": true,
    "pycharm": {
     "name": "#%%\n"
    }
   },
   "outputs": [],
   "source": [
    "import matplotlib.pyplot as plt\n",
    "import numpy as np\n",
    "import csv\n",
    "from sklearn.linear_model import LogisticRegression\n",
    "from sklearn.metrics import classification_report, confusion_matrix\n",
    "import researchpy as rp\n",
    "import statsmodels.api as sm\n",
    "import scipy.stats as stats\n",
    "\n",
    "with open('ac_hmda_2018-2021.csv', 'r', encoding='utf-8-sig') as f:\n",
    "    reader = csv.DictReader(f)\n",
    "    rows = list(reader)\n",
    "\n",
    "census_tracts = set()\n",
    "for row in rows:\n",
    "    census_tracts.add(row['census_tract'])"
   ]
  },
  {
   "cell_type": "code",
   "execution_count": 30,
   "outputs": [],
   "source": [
    "#no debt_to_income_ratio included in this grouping\n",
    "fields_to_use = ['derived_race', 'income', 'loan_amount', 'derived_sex', \"debt_to_income_ratio\"] #derived_loan_product_type', 'derived_dwelling_category'\n",
    "xs_dict_all_years = {}\n",
    "ys_dict_all_years = {}\n",
    "census_tracts_list = list(census_tracts)\n",
    "census_tracts_list = sorted(census_tracts_list)\n",
    "group_1 = [\"36\", \"37\", \"38\", \"39\", \"40\"]\n",
    "group_2 = [\"41\",\"42\",\"43\",\"44\",\"45\",\"47\"]\n",
    "group_3 = [\"47\", \"48\",\"49\",\"50%-60%\",\">60%\"]\n",
    "all_data=[]\n",
    "for tract in (census_tracts_list):\n",
    "    us = []\n",
    "    vs = []\n",
    "    ps = []\n",
    "    qs = []\n",
    "    for row in rows:\n",
    "        if row['census_tract'] == tract:\n",
    "            values = []\n",
    "            for field in fields_to_use:\n",
    "                if field == 'income':\n",
    "                    if row[field] == \"NA\":\n",
    "                        pass\n",
    "                    else:\n",
    "                        values.append(int(row[field]))\n",
    "                if field == 'derived_race':\n",
    "                    if row[field] == 'White':\n",
    "                        values.append(0)\n",
    "                    elif row[field] == 'Black or African American':\n",
    "                        values.append(1)\n",
    "                elif field == 'derived_sex':\n",
    "                    if row[field] == 'Female':\n",
    "                        values.append(0)\n",
    "                    elif row[field] == 'Male':\n",
    "                        values.append(1)\n",
    "                elif field == 'loan_amount':\n",
    "                    values.append(int(row[field]))\n",
    "                elif field == 'debt_to_income_ratio':\n",
    "                    if row[field] == '<20%':\n",
    "                        values.append(1)\n",
    "                    elif row[field] == '20%-<30%':\n",
    "                        values.append(2)\n",
    "                    elif row[field] == '30%-<36%':\n",
    "                        values.append(3)\n",
    "                    elif row[field] in group_1:\n",
    "                        values.append(4)\n",
    "                    elif row[field] in group_2:\n",
    "                        values.append(5)\n",
    "                    elif row[field] in group_3:\n",
    "                        values.append(6)\n",
    "                    else:\n",
    "                        pass\n",
    "            if len(values) == len(fields_to_use):\n",
    "                ps = []\n",
    "                us.append(values)\n",
    "                ps.append(row['census_tract'])\n",
    "                for item in values:\n",
    "                    ps.append(item)\n",
    "                field = 'action_taken'\n",
    "                if row[field] == '3':\n",
    "                    vs.append(0)\n",
    "                    ps.append(0)\n",
    "                elif row[field] == '1':\n",
    "                    vs.append(1)\n",
    "                    ps.append(1)\n",
    "                all_data.append(np.array(ps))\n",
    "            ys_dict_all_years[row['census_tract']] = np.array(vs)\n",
    "            xs_dict_all_years[row['census_tract']] = np.array(us)\n",
    "\n",
    "\n",
    "reduced_xs = {}\n",
    "reduced_ys = {}\n",
    "\n",
    "for tract in xs_dict_all_years:\n",
    "    if len(xs_dict_all_years[tract]) <=5:\n",
    "        pass\n",
    "    elif len(ys_dict_all_years[tract]) == np.sum(ys_dict_all_years[tract]):\n",
    "        pass\n",
    "    else:\n",
    "        reduced_xs[tract] = xs_dict_all_years[tract]\n",
    "        reduced_ys[tract] = ys_dict_all_years[tract]"
   ],
   "metadata": {
    "collapsed": false,
    "pycharm": {
     "name": "#%%\n"
    }
   }
  },
  {
   "cell_type": "code",
   "execution_count": null,
   "outputs": [],
   "source": [
    "#debt_to_income_ratio IS included in this grouping\n",
    "fields_to_use = ['derived_race', 'income', 'loan_amount', 'derived_sex', 'debt_to_income_ratio'] #derived_loan_product_type', 'derived_dwelling_category'\n",
    "xs_dict_all_years = {}\n",
    "ys_dict_all_years = {}\n",
    "census_tracts_list = list(census_tracts)\n",
    "census_tracts_list = sorted(census_tracts_list)\n",
    "\n",
    "for tract in (census_tracts_list):\n",
    "    us = []\n",
    "    vs = []\n",
    "    for row in rows:\n",
    "        if row['census_tract'] == tract:\n",
    "            values = []\n",
    "            for field in fields_to_use:\n",
    "                if field == 'income':\n",
    "                    if row[field] == \"NA\":\n",
    "                        pass\n",
    "                    else:\n",
    "                        values.append(int(row[field]))\n",
    "                if field == 'derived_race':\n",
    "                    if row[field] == 'White':\n",
    "                        values.append(0)\n",
    "                    elif row[field] == 'Black or African American':\n",
    "                        values.append(1)\n",
    "                elif field == 'derived_sex':\n",
    "                    if row[field] == 'Female':\n",
    "                        values.append(0)\n",
    "                    elif row[field] == 'Male':\n",
    "                        values.append(1)\n",
    "                elif field == 'loan_amount':\n",
    "                    values.append(int(row[field]))\n",
    "                if field == 'debt_to_income_ratio':\n",
    "                    if row[field] == \"<20%\":\n",
    "                        values.append(1)\n",
    "                    elif row[field] == \"20%-<30%\":\n",
    "                        values.append(2)\n",
    "                    elif row[field] == \"30%-<36%\":\n",
    "                        values.append(3)\n",
    "                    elif row[field] == \"36\" or \"37\":\n",
    "                        values.\n",
    "            if len(values) == len(fields_to_use):\n",
    "                us.append(values)\n",
    "                field = 'action_taken'\n",
    "                if row[field] == '3':\n",
    "                    vs.append(0)\n",
    "                elif row[field] == '1':\n",
    "                    vs.append(1)\n",
    "            ys_dict_all_years[row['census_tract']] = np.array(vs)\n",
    "            xs_dict_all_years[row['census_tract']] = np.array(us)\n",
    "\n",
    "reduced_xs = {}\n",
    "reduced_ys = {}\n",
    "\n",
    "for tract in xs_dict_all_years:\n",
    "    if len(xs_dict_all_years[tract]) <=5:\n",
    "        pass\n",
    "    elif len(ys_dict_all_years[tract]) == np.sum(ys_dict_all_years[tract]):\n",
    "        pass\n",
    "    else:\n",
    "        reduced_xs[tract] = xs_dict_all_years[tract]\n",
    "        reduced_ys[tract] = ys_dict_all_years[tract]"
   ],
   "metadata": {
    "collapsed": false,
    "pycharm": {
     "name": "#%%\n"
    }
   }
  },
  {
   "cell_type": "code",
   "execution_count": 31,
   "outputs": [
    {
     "name": "stdout",
     "output_type": "stream",
     "text": [
      "[array(['42003010300', '0', '58', '25000', '1', '2', '0'], dtype='<U11'), array(['42003010300', '0', '26', '125000', '1', '6', '0'], dtype='<U11'), array(['42003010300', '0', '26', '125000', '1', '6', '0'], dtype='<U11'), array(['42003010300', '0', '225', '315000', '0', '2', '0'], dtype='<U11'), array(['42003010300', '0', '225', '325000', '0', '2', '1'], dtype='<U11')]\n"
     ]
    },
    {
     "name": "stderr",
     "output_type": "stream",
     "text": [
      "\n",
      "KeyboardInterrupt\n",
      "\n"
     ]
    }
   ],
   "source": [
    "print(all_data[:5])"
   ],
   "metadata": {
    "collapsed": false,
    "pycharm": {
     "name": "#%%\n"
    }
   }
  },
  {
   "cell_type": "code",
   "execution_count": 36,
   "outputs": [],
   "source": [
    "mort_df = pd.DataFrame(all_data)"
   ],
   "metadata": {
    "collapsed": false,
    "pycharm": {
     "name": "#%%\n"
    }
   }
  },
  {
   "cell_type": "code",
   "execution_count": 38,
   "outputs": [
    {
     "data": {
      "text/plain": "                 0  1    2       3  4  5  6\n0      42003010300  0   58   25000  1  2  0\n1      42003010300  0   26  125000  1  6  0\n2      42003010300  0   26  125000  1  6  0\n3      42003010300  0  225  315000  0  2  0\n4      42003010300  0  225  325000  0  2  1\n...            ... ..  ...     ... .. .. ..\n30537  42003980600  0  155  275000  0  2  1\n30538  42003980700  0   46  115000  1  2  0\n30539  42003981000  1   36  225000  0  6  0\n30540  42003982200  0  101  185000  0  2  1\n30541  42003982200  0  146  115000  1  5  1\n\n[30542 rows x 7 columns]",
      "text/html": "<div>\n<style scoped>\n    .dataframe tbody tr th:only-of-type {\n        vertical-align: middle;\n    }\n\n    .dataframe tbody tr th {\n        vertical-align: top;\n    }\n\n    .dataframe thead th {\n        text-align: right;\n    }\n</style>\n<table border=\"1\" class=\"dataframe\">\n  <thead>\n    <tr style=\"text-align: right;\">\n      <th></th>\n      <th>0</th>\n      <th>1</th>\n      <th>2</th>\n      <th>3</th>\n      <th>4</th>\n      <th>5</th>\n      <th>6</th>\n    </tr>\n  </thead>\n  <tbody>\n    <tr>\n      <th>0</th>\n      <td>42003010300</td>\n      <td>0</td>\n      <td>58</td>\n      <td>25000</td>\n      <td>1</td>\n      <td>2</td>\n      <td>0</td>\n    </tr>\n    <tr>\n      <th>1</th>\n      <td>42003010300</td>\n      <td>0</td>\n      <td>26</td>\n      <td>125000</td>\n      <td>1</td>\n      <td>6</td>\n      <td>0</td>\n    </tr>\n    <tr>\n      <th>2</th>\n      <td>42003010300</td>\n      <td>0</td>\n      <td>26</td>\n      <td>125000</td>\n      <td>1</td>\n      <td>6</td>\n      <td>0</td>\n    </tr>\n    <tr>\n      <th>3</th>\n      <td>42003010300</td>\n      <td>0</td>\n      <td>225</td>\n      <td>315000</td>\n      <td>0</td>\n      <td>2</td>\n      <td>0</td>\n    </tr>\n    <tr>\n      <th>4</th>\n      <td>42003010300</td>\n      <td>0</td>\n      <td>225</td>\n      <td>325000</td>\n      <td>0</td>\n      <td>2</td>\n      <td>1</td>\n    </tr>\n    <tr>\n      <th>...</th>\n      <td>...</td>\n      <td>...</td>\n      <td>...</td>\n      <td>...</td>\n      <td>...</td>\n      <td>...</td>\n      <td>...</td>\n    </tr>\n    <tr>\n      <th>30537</th>\n      <td>42003980600</td>\n      <td>0</td>\n      <td>155</td>\n      <td>275000</td>\n      <td>0</td>\n      <td>2</td>\n      <td>1</td>\n    </tr>\n    <tr>\n      <th>30538</th>\n      <td>42003980700</td>\n      <td>0</td>\n      <td>46</td>\n      <td>115000</td>\n      <td>1</td>\n      <td>2</td>\n      <td>0</td>\n    </tr>\n    <tr>\n      <th>30539</th>\n      <td>42003981000</td>\n      <td>1</td>\n      <td>36</td>\n      <td>225000</td>\n      <td>0</td>\n      <td>6</td>\n      <td>0</td>\n    </tr>\n    <tr>\n      <th>30540</th>\n      <td>42003982200</td>\n      <td>0</td>\n      <td>101</td>\n      <td>185000</td>\n      <td>0</td>\n      <td>2</td>\n      <td>1</td>\n    </tr>\n    <tr>\n      <th>30541</th>\n      <td>42003982200</td>\n      <td>0</td>\n      <td>146</td>\n      <td>115000</td>\n      <td>1</td>\n      <td>5</td>\n      <td>1</td>\n    </tr>\n  </tbody>\n</table>\n<p>30542 rows × 7 columns</p>\n</div>"
     },
     "execution_count": 38,
     "metadata": {},
     "output_type": "execute_result"
    }
   ],
   "source": [
    "mort_df"
   ],
   "metadata": {
    "collapsed": false,
    "pycharm": {
     "name": "#%%\n"
    }
   }
  },
  {
   "cell_type": "code",
   "execution_count": 40,
   "outputs": [],
   "source": [
    "headers = ['tract']\n",
    "headers.extend(fields_to_use)\n",
    "headers.append('outcome')"
   ],
   "metadata": {
    "collapsed": false,
    "pycharm": {
     "name": "#%%\n"
    }
   }
  },
  {
   "cell_type": "code",
   "execution_count": null,
   "outputs": [],
   "source": [],
   "metadata": {
    "collapsed": false,
    "pycharm": {
     "name": "#%%\n"
    }
   }
  }
 ],
 "metadata": {
  "kernelspec": {
   "display_name": "Python 3",
   "language": "python",
   "name": "python3"
  },
  "language_info": {
   "codemirror_mode": {
    "name": "ipython",
    "version": 2
   },
   "file_extension": ".py",
   "mimetype": "text/x-python",
   "name": "python",
   "nbconvert_exporter": "python",
   "pygments_lexer": "ipython2",
   "version": "2.7.6"
  }
 },
 "nbformat": 4,
 "nbformat_minor": 0
}