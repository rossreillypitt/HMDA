{
 "cells": [
  {
   "cell_type": "code",
   "execution_count": 1,
   "metadata": {
    "pycharm": {
     "name": "#%%\n"
    }
   },
   "outputs": [],
   "source": [
    "import pandas as pd"
   ]
  },
  {
   "cell_type": "code",
   "execution_count": 14,
   "metadata": {
    "pycharm": {
     "name": "#%%\n"
    }
   },
   "outputs": [
    {
     "name": "stdout",
     "output_type": "stream",
     "text": [
      "['activity_year|lei|derived_msa_md|state_code|county_code|census_tract|conforming_loan_limit|derived_loan_product_type|derived_dwelling_category|derived_ethnicity|derived_race|derived_sex|action_taken|purchaser_type|preapproval|loan_type|loan_purpose|lien_status|reverse_mortgage|open_end_line_of_credit|business_or_commercial_purpose|loan_amount|combined_loan_to_value_ratio|interest_rate|rate_spread|hoepa_status|total_loan_costs|total_points_and_fees|origination_charges|discount_points|lender_credits|loan_term|prepayment_penalty_term|intro_rate_period|negative_amortization|interest_only_payment|balloon_payment|other_nonamortizing_features|property_value|construction_method|occupancy_type|manufactured_home_secured_property_type|manufactured_home_land_property_interest|total_units|multifamily_affordable_units|income|debt_to_income_ratio|applicant_credit_score_type|co_applicant_credit_score_type|applicant_ethnicity_1|applicant_ethnicity_2|applicant_ethnicity_3|applicant_ethnicity_4|applicant_ethnicity_5|co_applicant_ethnicity_1|co_applicant_ethnicity_2|co_applicant_ethnicity_3|co_applicant_ethnicity_4|co_applicant_ethnicity_5|applicant_ethnicity_observed|co_applicant_ethnicity_observed|applicant_race_1|applicant_race_2|applicant_race_3|applicant_race_4|applicant_race_5|co_applicant_race_1|co_applicant_race_2|co_applicant_race_3|co_applicant_race_4|co_applicant_race_5|applicant_race_observed|co_applicant_race_observed|applicant_sex|co_applicant_sex|applicant_sex_observed|co_applicant_sex_observed|applicant_age|co_applicant_age|applicant_age_above_62|co_applicant_age_above_62|submission_of_application|initially_payable_to_institution|aus_1|aus_2|aus_3|aus_4|aus_5|denial_reason_1|denial_reason_2|denial_reason_3|denial_reason_4|tract_population|tract_minority_population_percent|ffiec_msa_md_median_family_income|tract_to_msa_income_percentage|tract_owner_occupied_units|tract_one_to_four_family_homes|tract_median_age_of_housing_units']\n"
     ]
    }
   ],
   "source": [
    "flag = True\n",
    "hmda_cols = []\n",
    "ac_hmda = []\n",
    "with open(\"2021_lar.txt\") as o:\n",
    "    for line in o:\n",
    "        while flag:\n",
    "            hmda_cols.append(line.strip())\n",
    "            print(hmda_cols)\n",
    "            hmda_cols = hmda_cols[0].split(\"|\")\n",
    "            flag = False\n",
    "        if line[41:46] == '42003':\n",
    "            ac_hmda.append(line.strip())\n",
    "    ac_hmda = [item.split(\"|\") for item in ac_hmda]"
   ]
  },
  {
   "cell_type": "code",
   "execution_count": 16,
   "metadata": {
    "pycharm": {
     "name": "#%%\n"
    }
   },
   "outputs": [],
   "source": [
    "ac_hmda_dF = pd.DataFrame(ac_hmda, columns=hmda_cols)\n",
    "ac_hmda_dF.to_csv(\"ac_hmda.csv\", index=False)"
   ]
  },
  {
   "cell_type": "code",
   "execution_count": 13,
   "metadata": {
    "pycharm": {
     "name": "#%%\n"
    }
   },
   "outputs": [
    {
     "name": "stdout",
     "output_type": "stream",
     "text": [
      "ox!!!\n",
      "ox!!!\n",
      "ox!!!\n",
      "ox!!!\n",
      "ox!!!\n",
      "ox!!!\n",
      "ox!!!\n",
      "ox!!!\n",
      "ox!!!\n",
      "ox!!!\n",
      "ox!!!\n",
      "ox!!!\n",
      "ox!!!\n",
      "ox!!!\n",
      "ox!!!\n",
      "ox!!!\n",
      "ox!!!\n",
      "ox!!!\n",
      "ox!!!\n",
      "ox!!!\n",
      "ox!!!\n",
      "ox!!!\n",
      "ox!!!\n",
      "ox!!!\n",
      "ox!!!\n",
      "ox!!!\n",
      "ox!!!\n",
      "ox!!!\n",
      "ox!!!\n",
      "ox!!!\n",
      "ox!!!\n",
      "ox!!!\n",
      "ox!!!\n",
      "ox!!!\n",
      "ox!!!\n",
      "ox!!!\n",
      "ox!!!\n",
      "ox!!!\n",
      "ox!!!\n",
      "ox!!!\n",
      "ox!!!\n",
      "ox!!!\n",
      "ox!!!\n",
      "ox!!!\n",
      "ox!!!\n",
      "ox!!!\n",
      "ox!!!\n",
      "ox!!!\n",
      "ox!!!\n",
      "ox!!!\n",
      "ox!!!\n",
      "ox!!!\n",
      "ox!!!\n",
      "ox!!!\n",
      "ox!!!\n",
      "ox!!!\n",
      "ox!!!\n",
      "ox!!!\n",
      "ox!!!\n",
      "ox!!!\n",
      "ox!!!\n",
      "ox!!!\n",
      "ox!!!\n",
      "ox!!!\n",
      "ox!!!\n",
      "ox!!!\n",
      "ox!!!\n",
      "ox!!!\n",
      "ox!!!\n",
      "ox!!!\n",
      "ox!!!\n",
      "ox!!!\n",
      "ox!!!\n",
      "ox!!!\n",
      "ox!!!\n",
      "ox!!!\n",
      "ox!!!\n",
      "ox!!!\n",
      "ox!!!\n",
      "ox!!!\n",
      "ox!!!\n",
      "ox!!!\n",
      "ox!!!\n",
      "ox!!!\n",
      "ox!!!\n",
      "ox!!!\n",
      "ox!!!\n",
      "ox!!!\n",
      "ox!!!\n",
      "ox!!!\n",
      "ox!!!\n",
      "ox!!!\n",
      "ox!!!\n",
      "ox!!!\n",
      "ox!!!\n",
      "ox!!!\n",
      "ox!!!\n",
      "ox!!!\n"
     ]
    }
   ],
   "source": [
    "for item in hmda_cols:\n",
    "    if item == \"|\":\n",
    "        print(\"ox!!!\")"
   ]
  },
  {
   "cell_type": "code",
   "execution_count": null,
   "outputs": [],
   "source": [
    "white_borrowers = pd.read_csv(\"hmda_white_borrowers_approval.csv\")\n",
    "black_borrowers = pd.read_csv(\"hmda-black-borrowers-approval.csv\")\n",
    "no_race_borrowers = pd.read_csv(\"hmda_no_race_borrowers_approval.csv\")"
   ],
   "metadata": {
    "collapsed": false,
    "pycharm": {
     "name": "#%%\n"
    }
   }
  },
  {
   "cell_type": "code",
   "execution_count": null,
   "outputs": [],
   "source": [
    "white_borrowers.columns.values"
   ],
   "metadata": {
    "collapsed": false,
    "pycharm": {
     "name": "#%%\n"
    }
   }
  },
  {
   "cell_type": "code",
   "execution_count": null,
   "outputs": [],
   "source": [
    "white_borrowers.iloc[:,0]"
   ],
   "metadata": {
    "collapsed": false,
    "pycharm": {
     "name": "#%%\n"
    }
   }
  },
  {
   "cell_type": "code",
   "execution_count": null,
   "outputs": [],
   "source": [
    "census_tracts = set()\n",
    "\n",
    "files = [white_borrowers.iloc[:,0], black_borrowers.iloc[:,0], no_race_borrowers.iloc[:,0]]\n",
    "\n",
    "for item in files:\n",
    "    x=0\n",
    "    print(item)\n",
    "    for tracts in item:\n",
    "        census_tracts.add(tracts)\n",
    "        x+=1\n",
    "    print(f'{col_items_name} tracts: {x}')"
   ],
   "metadata": {
    "collapsed": false,
    "pycharm": {
     "name": "#%%\n"
    }
   }
  },
  {
   "cell_type": "code",
   "execution_count": null,
   "outputs": [],
   "source": [
    "census_tracts.remove(\"Grand Total\")\n",
    "census_tracts.remove(\"(blank)\")"
   ],
   "metadata": {
    "collapsed": false,
    "pycharm": {
     "name": "#%%\n"
    }
   }
  },
  {
   "cell_type": "code",
   "execution_count": null,
   "outputs": [],
   "source": [
    "census_tract_list = list(census_tracts)\n",
    "sorted_census_tract_list = census_tract_list.sort()"
   ],
   "metadata": {
    "collapsed": false,
    "pycharm": {
     "name": "#%%\n"
    }
   }
  },
  {
   "cell_type": "code",
   "execution_count": null,
   "outputs": [],
   "source": [
    "files = [white_borrowers.columns.values, black_borrowers.columns.values, no_race_borrowers.columns.values]\n",
    "\n",
    "header_list = [\"Census_tracts\"]\n",
    "\n",
    "for item in files:\n",
    "    for items in item[1:]:\n",
    "        header_list.append(items)\n",
    "    print(header_list)\n",
    "    print(len(header_list))"
   ],
   "metadata": {
    "collapsed": false,
    "pycharm": {
     "name": "#%%\n"
    }
   }
  },
  {
   "cell_type": "code",
   "execution_count": null,
   "outputs": [],
   "source": [
    "blank_list = [None] * 20\n",
    "blank_list"
   ],
   "metadata": {
    "collapsed": false,
    "pycharm": {
     "name": "#%%\n"
    }
   }
  },
  {
   "cell_type": "code",
   "execution_count": null,
   "outputs": [],
   "source": [
    "final_dataset = [[tract] for tract in census_tracts]\n",
    "\n",
    "for item in final_dataset:\n",
    "    for x in range(len(white_borrowers.iloc[0:])):\n",
    "        if item[0] == white_borrowers.iloc[x,0]:\n",
    "            item.append(white_borrowers.iloc[x,1:])\n",
    "        else:\n",
    "            pass\n",
    "\n",
    "# for item in census_tracts: \n",
    "#     staging_dataset = [tract]\n",
    "    \n",
    "#     for x in range(len(white_borrowers.iloc[0:])):\n",
    "#         if tract == white_borrowers.iloc[x,0]:\n",
    "#             print(\"ok\")\n",
    "#             staging_dataset.append(white_borrowers.iloc[x,:])\n",
    "#         else:\n",
    "#             print(\"no-k\")\n",
    "#             print(tract)\n",
    "#             staging_dataset.append(blank_list)"
   ],
   "metadata": {
    "collapsed": false,
    "pycharm": {
     "name": "#%%\n"
    }
   }
  },
  {
   "cell_type": "code",
   "execution_count": null,
   "outputs": [],
   "source": [
    "intermediary_borrowers = pd.merge(white_borrowers, black_borrowers, on=\"Census Tracts\")"
   ],
   "metadata": {
    "collapsed": false,
    "pycharm": {
     "name": "#%%\n"
    }
   }
  },
  {
   "cell_type": "code",
   "execution_count": null,
   "outputs": [],
   "source": [
    "all_borrowers = pd.merge(intermediary_borrowers, no_race_borrowers, on=\"Census Tracts\")"
   ],
   "metadata": {
    "collapsed": false,
    "pycharm": {
     "name": "#%%\n"
    }
   }
  },
  {
   "cell_type": "code",
   "execution_count": null,
   "outputs": [],
   "source": [
    "all_borrowers.to_csv(\"all_borrowers.csv\")"
   ],
   "metadata": {
    "collapsed": false,
    "pycharm": {
     "name": "#%%\n"
    }
   }
  },
  {
   "cell_type": "code",
   "execution_count": null,
   "outputs": [],
   "source": [
    "white_borrowers.loc[4,\"2018 - 1 - white applicants\"]"
   ],
   "metadata": {
    "collapsed": false,
    "pycharm": {
     "name": "#%%\n"
    }
   }
  },
  {
   "cell_type": "code",
   "execution_count": null,
   "outputs": [],
   "source": [
    "for item in files:\n",
    "    for items in item:\n",
    "        if \"42003020100\" == items:\n",
    "            print(f\"{item}: ok\")"
   ],
   "metadata": {
    "collapsed": false,
    "pycharm": {
     "name": "#%%\n"
    }
   }
  },
  {
   "cell_type": "code",
   "execution_count": 110,
   "metadata": {
    "pycharm": {
     "name": "#%%\n"
    }
   },
   "outputs": [
    {
     "data": {
      "text/plain": [
       "array(['Census Tracts', '2018 - 1 - white applicants',\n",
       "       '2018 - 3 - white applicants', '2018 Total - white applicants',\n",
       "       '2018 approval rate - white applicants',\n",
       "       '2018 denial rate - white applicants',\n",
       "       '2019 - 1 - white applicants', '2019 - 3 - white applicants',\n",
       "       '2019 Total - white applicants',\n",
       "       '2019 approval rate - white applicants',\n",
       "       '2019 denial rate - white applicants',\n",
       "       '2020 - 1 - white applicants', '2020 - 3 - white applicants',\n",
       "       '2020 Total - white applicants',\n",
       "       '2020 approval rate - white applicants',\n",
       "       '2020 denial rate - white applicants',\n",
       "       'Grand Total - white applicants',\n",
       "       'Sum of all Approvals - white applicants',\n",
       "       'Sum of all Denials - white applicants',\n",
       "       'Rate of all approvals - white applicants',\n",
       "       'Rate of all Denials - white applicants'], dtype=object)"
      ]
     },
     "execution_count": 110,
     "metadata": {},
     "output_type": "execute_result"
    }
   ],
   "source": [
    "white_borrowers.columns.values"
   ]
  },
  {
   "cell_type": "code",
   "execution_count": 50,
   "metadata": {
    "pycharm": {
     "name": "#%%\n"
    }
   },
   "outputs": [
    {
     "data": {
      "text/plain": [
       "0      42003010300\n",
       "1      42003020100\n",
       "2      42003020300\n",
       "3      42003030500\n",
       "4      42003040200\n",
       "          ...     \n",
       "376    42003564400\n",
       "377    42003564500\n",
       "378    42003980600\n",
       "379    42003980700\n",
       "380    Grand Total\n",
       "Name: Census Tracts, Length: 381, dtype: object"
      ]
     },
     "execution_count": 50,
     "metadata": {},
     "output_type": "execute_result"
    }
   ],
   "source": [
    "white_borrowers.iloc[:,0]"
   ]
  },
  {
   "cell_type": "code",
   "execution_count": 51,
   "metadata": {
    "pycharm": {
     "name": "#%%\n"
    }
   },
   "outputs": [
    {
     "name": "stdout",
     "output_type": "stream",
     "text": [
      "0      42003010300\n",
      "1      42003020100\n",
      "2      42003020300\n",
      "3      42003030500\n",
      "4      42003040200\n",
      "          ...     \n",
      "376    42003564400\n",
      "377    42003564500\n",
      "378    42003980600\n",
      "379    42003980700\n",
      "380    Grand Total\n",
      "Name: Census Tracts, Length: 381, dtype: object\n",
      "no_race_borrowers.iloc[:,0] tracts: 381\n",
      "0      42003020100\n",
      "1      42003020300\n",
      "2      42003030500\n",
      "3      42003040200\n",
      "4      42003040400\n",
      "          ...     \n",
      "337    42003564400\n",
      "338    42003564500\n",
      "339    42003980400\n",
      "340    42003981000\n",
      "341    Grand Total\n",
      "Name: census_tract, Length: 342, dtype: object\n",
      "no_race_borrowers.iloc[:,0] tracts: 342\n",
      "0      42003020100\n",
      "1      42003020300\n",
      "2      42003030500\n",
      "3      42003040200\n",
      "4      42003040400\n",
      "          ...     \n",
      "364    42003564400\n",
      "365    42003564500\n",
      "366    42003980600\n",
      "367        (blank)\n",
      "368    Grand Total\n",
      "Name: Census Tract, Length: 369, dtype: object\n",
      "no_race_borrowers.iloc[:,0] tracts: 369\n"
     ]
    }
   ],
   "source": [
    "census_tracts = set()\n",
    "\n",
    "files = [white_borrowers.iloc[:,0], black_borrowers.iloc[:,0], no_race_borrowers.iloc[:,0]]\n",
    "\n",
    "for item in files:\n",
    "    x=0\n",
    "    print(item)\n",
    "    for tracts in item:\n",
    "        census_tracts.add(tracts)\n",
    "        x+=1\n",
    "    print(f'{col_items_name} tracts: {x}')"
   ]
  },
  {
   "cell_type": "code",
   "execution_count": 52,
   "metadata": {
    "pycharm": {
     "name": "#%%\n"
    }
   },
   "outputs": [],
   "source": [
    "census_tracts.remove(\"Grand Total\")\n",
    "census_tracts.remove(\"(blank)\")"
   ]
  },
  {
   "cell_type": "code",
   "execution_count": 53,
   "metadata": {
    "pycharm": {
     "name": "#%%\n"
    }
   },
   "outputs": [],
   "source": [
    "census_tract_list = list(census_tracts)\n",
    "sorted_census_tract_list = census_tract_list.sort()"
   ]
  },
  {
   "cell_type": "code",
   "execution_count": 54,
   "metadata": {
    "pycharm": {
     "name": "#%%\n"
    }
   },
   "outputs": [
    {
     "name": "stdout",
     "output_type": "stream",
     "text": [
      "['Census_tracts', '2018 - 1 - white applicants', '2018 - 3 - white applicants', '2018 Total - white applicants', '2018 approval rate - white applicants', '2018 denial rate - white applicants', '2019 - 1 - white applicants', '2019 - 3 - white applicants', '2019 Total - white applicants', '2019 approval rate - white applicants', '2019 denial rate - white applicants', '2020 - 1 - white applicants', '2020 - 3 - white applicants', '2020 Total - white applicants', '2020 approval rate - white applicants', '2020 denial rate - white applicants', 'Grand Total - white applicants', 'Sum of all Approvals - white applicants', 'Sum of all Denials - white applicants', 'Rate of all approvals - white applicants', 'Rate of all Denials - white applicants']\n",
      "21\n",
      "['Census_tracts', '2018 - 1 - white applicants', '2018 - 3 - white applicants', '2018 Total - white applicants', '2018 approval rate - white applicants', '2018 denial rate - white applicants', '2019 - 1 - white applicants', '2019 - 3 - white applicants', '2019 Total - white applicants', '2019 approval rate - white applicants', '2019 denial rate - white applicants', '2020 - 1 - white applicants', '2020 - 3 - white applicants', '2020 Total - white applicants', '2020 approval rate - white applicants', '2020 denial rate - white applicants', 'Grand Total - white applicants', 'Sum of all Approvals - white applicants', 'Sum of all Denials - white applicants', 'Rate of all approvals - white applicants', 'Rate of all Denials - white applicants', '2018 - 1 - black', '2018 - 3 - black', '2018 total - black', '2018-approval-per-tract - black', '2018-denial-per-tract - black', '2019 - 1 - black', '2019 - 3 - black', '2019 total - black', '2019-approval-rate - black', '2019-denial-rate - black', '2020 -1 - black', '2020 - 3 - black', '2020 total - black', '2020-approvals - black', '2020-denials - black', 'grand total - black', 'Sum of all approvals - black', 'Sum of all denials - black', 'Rate of all approvals - black', 'Rate of all denials - black']\n",
      "41\n",
      "['Census_tracts', '2018 - 1 - white applicants', '2018 - 3 - white applicants', '2018 Total - white applicants', '2018 approval rate - white applicants', '2018 denial rate - white applicants', '2019 - 1 - white applicants', '2019 - 3 - white applicants', '2019 Total - white applicants', '2019 approval rate - white applicants', '2019 denial rate - white applicants', '2020 - 1 - white applicants', '2020 - 3 - white applicants', '2020 Total - white applicants', '2020 approval rate - white applicants', '2020 denial rate - white applicants', 'Grand Total - white applicants', 'Sum of all Approvals - white applicants', 'Sum of all Denials - white applicants', 'Rate of all approvals - white applicants', 'Rate of all Denials - white applicants', '2018 - 1 - black', '2018 - 3 - black', '2018 total - black', '2018-approval-per-tract - black', '2018-denial-per-tract - black', '2019 - 1 - black', '2019 - 3 - black', '2019 total - black', '2019-approval-rate - black', '2019-denial-rate - black', '2020 -1 - black', '2020 - 3 - black', '2020 total - black', '2020-approvals - black', '2020-denials - black', 'grand total - black', 'Sum of all approvals - black', 'Sum of all denials - black', 'Rate of all approvals - black', 'Rate of all denials - black', '2018 - 1 - no race listed', '2018 - 3 - no race listed', '2018 Total - no race listed', '2018 approval rate - no race listed', '2018 denial rate - no race listed', '2019 - 1 - no race listed', '2019 - 3 - no race listed', '2019 Total - no race listed', '2019 approval rate - no race listed', '2019 denial rate - no race listed', '2020 - 1 - no race listed', '2020 - 3 - no race listed', '2020 Total - no race listed', '2020 approval rate - no race listed', '2020 denial rate - no race listed', 'Grand Total - no race listed', 'sum of all approvals - no race listed', 'sum of all denials - no race listed', 'rate of all approvals - no race listed', 'rate of all denials - no race listed']\n",
      "61\n"
     ]
    }
   ],
   "source": [
    "files = [white_borrowers.columns.values, black_borrowers.columns.values, no_race_borrowers.columns.values]\n",
    "\n",
    "header_list = [\"Census_tracts\"]\n",
    "\n",
    "for item in files:\n",
    "    for items in item[1:]:\n",
    "        header_list.append(items)\n",
    "    print(header_list)\n",
    "    print(len(header_list))"
   ]
  },
  {
   "cell_type": "code",
   "execution_count": 55,
   "metadata": {
    "pycharm": {
     "name": "#%%\n"
    }
   },
   "outputs": [
    {
     "data": {
      "text/plain": [
       "[None,\n",
       " None,\n",
       " None,\n",
       " None,\n",
       " None,\n",
       " None,\n",
       " None,\n",
       " None,\n",
       " None,\n",
       " None,\n",
       " None,\n",
       " None,\n",
       " None,\n",
       " None,\n",
       " None,\n",
       " None,\n",
       " None,\n",
       " None,\n",
       " None,\n",
       " None]"
      ]
     },
     "execution_count": 55,
     "metadata": {},
     "output_type": "execute_result"
    }
   ],
   "source": [
    "blank_list = [None] * 20\n",
    "blank_list"
   ]
  },
  {
   "cell_type": "code",
   "execution_count": 102,
   "metadata": {
    "pycharm": {
     "name": "#%%\n"
    }
   },
   "outputs": [],
   "source": [
    "final_dataset = [[tract] for tract in census_tracts]\n",
    "\n",
    "for item in final_dataset:\n",
    "    for x in range(len(white_borrowers.iloc[0:])):\n",
    "        if item[0] == white_borrowers.iloc[x,0]:\n",
    "            item.append(white_borrowers.iloc[x,1:])\n",
    "        else:\n",
    "            pass\n",
    "\n",
    "# for item in census_tracts: \n",
    "#     staging_dataset = [tract]\n",
    "    \n",
    "#     for x in range(len(white_borrowers.iloc[0:])):\n",
    "#         if tract == white_borrowers.iloc[x,0]:\n",
    "#             print(\"ok\")\n",
    "#             staging_dataset.append(white_borrowers.iloc[x,:])\n",
    "#         else:\n",
    "#             print(\"no-k\")\n",
    "#             print(tract)\n",
    "#             staging_dataset.append(blank_list)"
   ]
  },
  {
   "cell_type": "code",
   "execution_count": 118,
   "metadata": {
    "pycharm": {
     "name": "#%%\n"
    }
   },
   "outputs": [],
   "source": [
    "intermediary_borrowers = pd.merge(white_borrowers, black_borrowers, on=\"Census Tracts\")"
   ]
  },
  {
   "cell_type": "code",
   "execution_count": 119,
   "metadata": {
    "pycharm": {
     "name": "#%%\n"
    }
   },
   "outputs": [],
   "source": [
    "all_borrowers = pd.merge(intermediary_borrowers, no_race_borrowers, on=\"Census Tracts\")"
   ]
  },
  {
   "cell_type": "code",
   "execution_count": 120,
   "metadata": {
    "pycharm": {
     "name": "#%%\n"
    }
   },
   "outputs": [],
   "source": [
    "all_borrowers.to_csv(\"all_borrowers.csv\")"
   ]
  },
  {
   "cell_type": "code",
   "execution_count": 74,
   "metadata": {
    "pycharm": {
     "name": "#%%\n"
    }
   },
   "outputs": [
    {
     "data": {
      "text/plain": [
       "nan"
      ]
     },
     "execution_count": 74,
     "metadata": {},
     "output_type": "execute_result"
    }
   ],
   "source": [
    "white_borrowers.loc[4,\"2018 - 1 - white applicants\"]"
   ]
  },
  {
   "cell_type": "code",
   "execution_count": 68,
   "metadata": {
    "pycharm": {
     "name": "#%%\n"
    }
   },
   "outputs": [
    {
     "name": "stdout",
     "output_type": "stream",
     "text": [
      "0      42003010300\n",
      "1      42003020100\n",
      "2      42003020300\n",
      "3      42003030500\n",
      "4      42003040200\n",
      "          ...     \n",
      "376    42003564400\n",
      "377    42003564500\n",
      "378    42003980600\n",
      "379    42003980700\n",
      "380    Grand Total\n",
      "Name: Census Tracts, Length: 381, dtype: object: ok\n",
      "0      42003020100\n",
      "1      42003020300\n",
      "2      42003030500\n",
      "3      42003040200\n",
      "4      42003040400\n",
      "          ...     \n",
      "337    42003564400\n",
      "338    42003564500\n",
      "339    42003980400\n",
      "340    42003981000\n",
      "341    Grand Total\n",
      "Name: census_tract, Length: 342, dtype: object: ok\n",
      "0      42003020100\n",
      "1      42003020300\n",
      "2      42003030500\n",
      "3      42003040200\n",
      "4      42003040400\n",
      "          ...     \n",
      "364    42003564400\n",
      "365    42003564500\n",
      "366    42003980600\n",
      "367        (blank)\n",
      "368    Grand Total\n",
      "Name: Census Tract, Length: 369, dtype: object: ok\n"
     ]
    }
   ],
   "source": [
    "for item in files:\n",
    "    for items in item:\n",
    "        if \"42003020100\" == items:\n",
    "            print(f\"{item}: ok\")"
   ]
  }
 ],
 "metadata": {
  "kernelspec": {
   "display_name": "Python 3 (ipykernel)",
   "language": "python",
   "name": "python3"
  },
  "language_info": {
   "codemirror_mode": {
    "name": "ipython",
    "version": 3
   },
   "file_extension": ".py",
   "mimetype": "text/x-python",
   "name": "python",
   "nbconvert_exporter": "python",
   "pygments_lexer": "ipython3",
   "version": "3.9.7"
  },
  "vscode": {
   "interpreter": {
    "hash": "9719e15e336950d2bd52e0a5facbf95db214be01b0c3033c56bb85d2ef77a5eb"
   }
  }
 },
 "nbformat": 4,
 "nbformat_minor": 2
}